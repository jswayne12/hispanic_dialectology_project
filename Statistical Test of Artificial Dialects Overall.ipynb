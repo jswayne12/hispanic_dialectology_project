{
 "cells": [
  {
   "cell_type": "markdown",
   "id": "845ed23c",
   "metadata": {},
   "source": [
    "# Imports"
   ]
  },
  {
   "cell_type": "code",
   "execution_count": 45,
   "id": "95b3f985",
   "metadata": {},
   "outputs": [],
   "source": [
    "%%capture\n",
    "pip install spacy"
   ]
  },
  {
   "cell_type": "code",
   "execution_count": 46,
   "id": "a6c65eb1",
   "metadata": {},
   "outputs": [],
   "source": [
    "%%capture\n",
    "pip install ibm_db"
   ]
  },
  {
   "cell_type": "code",
   "execution_count": 47,
   "id": "8a7510f0",
   "metadata": {},
   "outputs": [],
   "source": [
    "import pandas as pd\n",
    "import numpy as np\n",
    "import re\n",
    "import nltk \n",
    "import spacy\n",
    "import matplotlib.pyplot as plt\n",
    "import seaborn as sns\n",
    "from collections import Counter\n",
    "import ibm_db\n",
    "import ibm_db_dbi\n",
    "import string\n",
    "from ast import literal_eval\n",
    "import math"
   ]
  },
  {
   "cell_type": "markdown",
   "id": "662893d8",
   "metadata": {},
   "source": [
    "# Database Connection"
   ]
  },
  {
   "cell_type": "code",
   "execution_count": 48,
   "id": "a0eb3d52",
   "metadata": {},
   "outputs": [],
   "source": [
    "#Creating variable for DB connection\n",
    "dsn_hostname = \"54a2f15b-5c0f-46df-8954-7e38e612c2bd.c1ogj3sd0tgtu0lqde00.databases.appdomain.cloud\"\n",
    "dsn_uid = \"qgs98802\"  \n",
    "dsn_pwd = \"f20uBnloVxeaSeZK\"\n",
    "\n",
    "dsn_driver = \"{IBM DB2 ODBC DRIVER}\"\n",
    "dsn_database = \"bludb\"\n",
    "\n",
    "dsn_port = \"32733\"\n",
    "dsn_protocol = \"TCPIP\"  \n",
    " \n",
    "dsn_security = \"SSL\""
   ]
  },
  {
   "cell_type": "code",
   "execution_count": 49,
   "id": "99c142f6",
   "metadata": {},
   "outputs": [],
   "source": [
    "# Formatting dsn in order to make connection\n",
    "dsn = (\n",
    "    \"DRIVER={0};\"\n",
    "    \"DATABASE={1};\"\n",
    "    \"HOSTNAME={2};\"\n",
    "    \"PORT={3};\"\n",
    "    \"PROTOCOL={4};\"\n",
    "    \"UID={5};\"\n",
    "    \"PWD={6};\"\n",
    "    \"SECURITY={7};\").format(dsn_driver, dsn_database, dsn_hostname, dsn_port, dsn_protocol, dsn_uid, dsn_pwd, dsn_security)"
   ]
  },
  {
   "cell_type": "code",
   "execution_count": 50,
   "id": "3f01519c",
   "metadata": {},
   "outputs": [
    {
     "name": "stdout",
     "output_type": "stream",
     "text": [
      "Connected to database:  bludb as user:  qgs98802 on host:  54a2f15b-5c0f-46df-8954-7e38e612c2bd.c1ogj3sd0tgtu0lqde00.databases.appdomain.cloud\n"
     ]
    }
   ],
   "source": [
    "#Connecting to Database\n",
    "try:\n",
    "    conn = ibm_db.connect(dsn, \"\", \"\")\n",
    "    print (\"Connected to database: \", dsn_database, \"as user: \", dsn_uid, \"on host: \", dsn_hostname)\n",
    "\n",
    "except:\n",
    "    print (\"Unable to connect: \", ibm_db.conn_errormsg() )"
   ]
  },
  {
   "cell_type": "code",
   "execution_count": 51,
   "id": "3635d70e",
   "metadata": {},
   "outputs": [],
   "source": [
    "pconn = ibm_db_dbi.Connection(conn)"
   ]
  },
  {
   "cell_type": "markdown",
   "id": "b1e91e8f",
   "metadata": {},
   "source": [
    "# Base Functions"
   ]
  },
  {
   "cell_type": "code",
   "execution_count": 52,
   "id": "0d873e1c",
   "metadata": {},
   "outputs": [],
   "source": [
    "def remove_emoji(string):\n",
    "    emoji_pattern = re.compile(\"[\"\n",
    "                               u\"\\U0001F600-\\U0001F64F\"  # emoticons\n",
    "                               u\"\\U0001F300-\\U0001F5FF\"  # symbols & pictographs\n",
    "                               u\"\\U0001F680-\\U0001F6FF\"  # transport & map symbols\n",
    "                               u\"\\U0001F1E0-\\U0001F1FF\"  # flags (iOS)\n",
    "                               u\"\\U00002500-\\U00002BEF\"  # chinese char\n",
    "                               u\"\\U00002702-\\U000027B0\"\n",
    "                               u\"\\U00002702-\\U000027B0\"\n",
    "                               u\"\\U000024C2-\\U0001F251\"\n",
    "                               u\"\\U0001f926-\\U0001f937\"\n",
    "                               u\"\\U00010000-\\U0010ffff\"\n",
    "                               u\"\\u2640-\\u2642\"\n",
    "                               u\"\\u2600-\\u2B55\"\n",
    "                               u\"\\u200d\"\n",
    "                               u\"\\u23cf\"\n",
    "                               u\"\\u23e9\"\n",
    "                               u\"\\u231a\"\n",
    "                               u\"\\ufe0f\"  # dingbats\n",
    "                               u\"\\u3030\"\n",
    "                               \"]+\", flags=re.UNICODE)\n",
    "    return emoji_pattern.sub(r'', string)"
   ]
  },
  {
   "cell_type": "code",
   "execution_count": 53,
   "id": "e1d92915",
   "metadata": {},
   "outputs": [],
   "source": [
    "def clean_lemma(string_):\n",
    "    #Takes in lemmas/ngram and cleans them of punctuation marks if there are any\n",
    "    punctuation = [char for char in string.punctuation]\n",
    "    string_list = string_.split()\n",
    "    cleaned_string_list = [char for char in string_list if char not in punctuation]\n",
    "    cleaned_string = ' '.join(cleaned_string_list)\n",
    "    return cleaned_string"
   ]
  },
  {
   "cell_type": "code",
   "execution_count": 54,
   "id": "1046bfe7",
   "metadata": {},
   "outputs": [],
   "source": [
    "def get_lemmas(string):\n",
    "    #Used to pull out the lemmas from each row in the original corpora\n",
    "    nested_list = literal_eval(string)\n",
    "    lemma_list = []\n",
    "    for list_ in nested_list[0]:\n",
    "        partial_lemma_list = []\n",
    "        for dict_ in list_:\n",
    "            supposed_lemma = str(dict_.values())[14:-3]\n",
    "            supposed_lemma2 = clean_lemma(supposed_lemma)\n",
    "            lemma = remove_emoji(supposed_lemma2)\n",
    "            cleaned_lemma = lemma.lower()\n",
    "            partial_lemma_list.append(cleaned_lemma)\n",
    "        lemma_list.extend(partial_lemma_list)\n",
    "        no_space_lemma_list = [lemma for lemma in lemma_list if lemma != '']\n",
    "    return no_space_lemma_list"
   ]
  },
  {
   "cell_type": "code",
   "execution_count": 55,
   "id": "3e52bc5d",
   "metadata": {},
   "outputs": [],
   "source": [
    "def get_all_lemmas(df):\n",
    "    #Used to collect all of the lemmas from a particular dataframe/corpus\n",
    "    all_lemmas = []\n",
    "    for row in df['LEMMATIZATION']:\n",
    "        row_lemmas = get_lemmas(row)\n",
    "        all_lemmas.extend(row_lemmas)\n",
    "    return all_lemmas"
   ]
  },
  {
   "cell_type": "code",
   "execution_count": 56,
   "id": "68119746",
   "metadata": {},
   "outputs": [],
   "source": [
    "def ranking_ngrams(list_, num_ngrams):\n",
    "    #This creates a dataframe that renders a ranking of the most common lemmas as well as their relative frequencies\n",
    "    total_ranking = Counter(list_).most_common()\n",
    "    num_tokens = len(total_ranking)\n",
    "    most_common_lemmas = total_ranking[0:num_ngrams]\n",
    "    ngrams = []\n",
    "    ranking = []\n",
    "    relative_frequencies = []\n",
    "    rank = 0\n",
    "    for entry in most_common_lemmas:\n",
    "        ngram = entry[0]\n",
    "        raw_frequency = entry[1]\n",
    "        relative_frequency = round((raw_frequency/num_tokens)*10000)\n",
    "        rank +=1\n",
    "        ngrams.append(ngram)\n",
    "        ranking.append(rank)\n",
    "        relative_frequencies.append(relative_frequency)\n",
    "    df = pd.DataFrame()\n",
    "    df['Ngrams'] = pd.Series(ngrams)\n",
    "    df['Ranking'] = pd.Series(ranking)\n",
    "    df['Relative Frequency (Per 10000 words)']= pd.Series(relative_frequencies)\n",
    "    return df"
   ]
  },
  {
   "cell_type": "code",
   "execution_count": 57,
   "id": "241769e8",
   "metadata": {},
   "outputs": [],
   "source": [
    "def lexical_similarity(df1, df2):\n",
    "    #This takes all the lemmas of both corpora, and renders a percentage of similarity based on presence of the lemmas. This is a very simple function\n",
    "    df1_lemma_list = df1['Ngrams'].tolist()\n",
    "    df2_lemma_list = df2['Ngrams'].tolist()\n",
    "    percentage_similarity = len(set(df1_lemma_list) & set(df2_lemma_list)) / float(len(set(df1_lemma_list) | set(df2_lemma_list))) * 100\n",
    "    return round(percentage_similarity,2)"
   ]
  },
  {
   "cell_type": "code",
   "execution_count": 58,
   "id": "921ff46d",
   "metadata": {},
   "outputs": [],
   "source": [
    "def sentence_parsing_string(string_):\n",
    "    #replacing any punctuation that could indicate the ending of an idea with a '.' to then parse on the '.'\n",
    "    new_string = string_.replace('!','.')\n",
    "    new_string=new_string.replace('?','.')\n",
    "    new_string= new_string.replace(',','.')\n",
    "    new_string=new_string.replace(';', '.')\n",
    "    new_string = new_string.replace('(', '.')\n",
    "    new_string = new_string.replace(')', '.')\n",
    "    new_string = new_string.replace(':', '.')\n",
    "    new_string = new_string.replace(\"'\", \".\")\n",
    "    new_string = new_string.replace('\"','.')\n",
    "    parsed_string = new_string.split('.')\n",
    "    complete_parsed_string = [phrase for phrase in parsed_string if len(phrase) > 2]\n",
    "    return complete_parsed_string"
   ]
  },
  {
   "cell_type": "code",
   "execution_count": 59,
   "id": "9e3dbb60",
   "metadata": {},
   "outputs": [],
   "source": [
    "def extract_pure_bigrams(post):\n",
    "    parsed_post = sentence_parsing_string(post)\n",
    "    nested_bigram_list = []\n",
    "    for phrase in parsed_post:\n",
    "        cleaned_phrase = phrase.lower()\n",
    "        post_bigrams = nltk.ngrams(cleaned_phrase.split(), 2)\n",
    "        nested_bigram_list.append(list(post_bigrams))\n",
    "    return nested_bigram_list"
   ]
  },
  {
   "cell_type": "code",
   "execution_count": 60,
   "id": "4f59be5e",
   "metadata": {},
   "outputs": [],
   "source": [
    "def extract_lemma_bigrams_preparsed(post):\n",
    "    nested_list = literal_eval(post)\n",
    "    lemma_parsed = []\n",
    "    for phrase in nested_list[0]:\n",
    "        lemma_dict = phrase\n",
    "        lemma_in_phrase = []\n",
    "        for dict_ in lemma_dict:\n",
    "            raw_lemma = str(dict_.values())[14:-3]\n",
    "            lemma = remove_emoji(raw_lemma)\n",
    "            if lemma == ' ':\n",
    "                pass\n",
    "            else:\n",
    "                lemma_in_phrase.append(lemma.lower())\n",
    "        ngrams = nltk.ngrams(lemma_in_phrase,2)\n",
    "        lemma_parsed.append(list(ngrams))\n",
    "    return lemma_parsed"
   ]
  },
  {
   "cell_type": "code",
   "execution_count": 61,
   "id": "22803ca4",
   "metadata": {},
   "outputs": [],
   "source": [
    "def get_all_lemma_bigrams(df):\n",
    "    lemma_bigrams = []\n",
    "    for post in df['Lemma_Bigrams']:\n",
    "        post_lemmas = []\n",
    "        for list_ in post:\n",
    "            for bigram in list_:\n",
    "                post_lemmas.append(bigram)\n",
    "        lemma_bigrams.extend(post_lemmas)\n",
    "    return lemma_bigrams"
   ]
  },
  {
   "cell_type": "code",
   "execution_count": 62,
   "id": "8feebc9b",
   "metadata": {},
   "outputs": [],
   "source": [
    "def get_all_pure_bigrams(df):\n",
    "    pure_bigrams = []\n",
    "    for post in df['Pure_Bigrams']:\n",
    "        post_lemmas = []\n",
    "        for list_ in post:\n",
    "            for bigram in list_:\n",
    "                post_lemmas.append(bigram)\n",
    "        pure_bigrams.extend(post_lemmas)\n",
    "    return pure_bigrams"
   ]
  },
  {
   "cell_type": "markdown",
   "id": "87405fbf",
   "metadata": {},
   "source": [
    "# Data Preparation"
   ]
  },
  {
   "cell_type": "code",
   "execution_count": 63,
   "id": "fcf5061a",
   "metadata": {},
   "outputs": [],
   "source": [
    "artificial_dialect1_unigram = pd.read_csv('artificial_dialect1_unigrams.csv')\n",
    "artificial_dialect2_unigram = pd.read_csv('artificial_dialect2_unigrams.csv')\n",
    "\n",
    "artificial_dialect1_bigram = pd.read_csv('artificial_dialect1_lemmab.csv')\n",
    "artificial_dialect2_bigram = pd.read_csv('artificial_dialect2_lemmab.csv')\n",
    "\n",
    "artificial_dialect1_pure = pd.read_csv('artificial_dialect1_pure.csv')\n",
    "artificial_dialect2_pure = pd.read_csv('artificial_dialect2_pure.csv')"
   ]
  },
  {
   "cell_type": "code",
   "execution_count": 64,
   "id": "e988ec4b",
   "metadata": {},
   "outputs": [],
   "source": [
    "# Collect all the lemma in the dataset\n",
    "total_reddit_df = pd.read_csv('../PycharmProjects/hispanic_politic_analysis/reddit_ling_data.csv')\n",
    "total_reddit_df.rename(columns={'Lemmatization':'LEMMATIZATION'}, inplace=True)\n",
    "total_youtube_corpus = 'Select INDEX, PARSED_CONTENT, LEMMATIZATION from youtube_ling'\n",
    "total_youtube_df = pd.read_sql(total_youtube_corpus, pconn)\n",
    "total_twitter_df = pd.read_csv('../PycharmProjects/hispanic_politic_analysis/twitter_ling_data.csv')\n",
    "total_twitter_df.rename(columns={'Lemmatization':'LEMMATIZATION'}, inplace=True)"
   ]
  },
  {
   "cell_type": "code",
   "execution_count": 65,
   "id": "ae20d229",
   "metadata": {},
   "outputs": [],
   "source": [
    "#Recreating the twitter data set with the information that we need\n",
    "twitter_query = 'Select tweet_id, content, country from twitter_data'\n",
    "twitter_incomplete_df = pd.read_sql(twitter_query, pconn)\n",
    "twitter_lemmas =total_twitter_df['LEMMATIZATION']\n",
    "twitter_df = pd.concat([twitter_incomplete_df, twitter_lemmas], axis=1)\n",
    "\n",
    "#Getting the bigrams from the Twitter data\n",
    "twitter_df['Parsed_Content'] = twitter_df['CONTENT'].apply(sentence_parsing_string)\n",
    "twitter_df['Lemma_Bigrams'] = twitter_df['LEMMATIZATION'].apply(extract_lemma_bigrams_preparsed)\n",
    "twitter_df['Pure_Bigrams'] = twitter_df['CONTENT'].apply(extract_pure_bigrams)\n",
    "twitter_df['Lemmas'] = twitter_df['LEMMATIZATION'].apply(get_lemmas)\n",
    "\n",
    "#Getting the bigrams from the reddit data\n",
    "reddit_query = 'Select country from reddit_data'\n",
    "reddit_country = pd.read_sql(reddit_query, pconn)\n",
    "total_reddit_df['Pure_Bigrams'] = total_reddit_df['PARSED_CONTENT'].apply(extract_pure_bigrams)\n",
    "total_reddit_df['Lemma_Bigrams'] = total_reddit_df['LEMMATIZATION'].apply(extract_lemma_bigrams_preparsed)\n",
    "total_reddit_df['Lemmas'] = total_reddit_df['LEMMATIZATION'].apply(get_lemmas)\n",
    "reddit_df = pd.concat([total_reddit_df, reddit_country], axis=1)\n",
    "\n",
    "#Getting the bigrams from the youtube data\n",
    "youtube_query = 'Select country from youtube_data'\n",
    "youtube_country = pd.read_sql(youtube_query, pconn)\n",
    "total_youtube_df['Pure_Bigrams'] = total_youtube_df['PARSED_CONTENT'].apply(extract_pure_bigrams)\n",
    "total_youtube_df['Lemma_Bigrams'] = total_youtube_df['LEMMATIZATION'].apply(extract_lemma_bigrams_preparsed)\n",
    "total_youtube_df['Lemmas'] = total_youtube_df['LEMMATIZATION'].apply(get_lemmas)\n",
    "youtube_df = pd.concat([total_youtube_df, youtube_country], axis=1)"
   ]
  },
  {
   "cell_type": "code",
   "execution_count": 66,
   "id": "a802b108",
   "metadata": {},
   "outputs": [],
   "source": [
    "complete_df = pd.concat([youtube_df, reddit_df, twitter_df], axis=0)\n",
    "complete_df = complete_df[['COUNTRY', 'Lemmas', 'Pure_Bigrams', 'Lemma_Bigrams']]\n"
   ]
  },
  {
   "cell_type": "markdown",
   "id": "b205b023",
   "metadata": {},
   "source": [
    "# Sampling"
   ]
  },
  {
   "cell_type": "markdown",
   "id": "32c653ef",
   "metadata": {},
   "source": [
    "In a previous notebook I worked out and compared two distinct artificial dialects. The dialects were two separate attempts at creating a dialectually neutral dialect. In the aforementioned notebook, their lexical compositions were compared to various natural dialects. They seemed to render distinct scores of lexical similarity though this will be a true test of how distinct they are.\n",
    "\n",
    "In this section, I will be testing the performance of the artificial dialect in a multi-dialectal context. In other words, random sampling will be used to create a sample of posts from the dataset a thousand times. I will then extract the most common ngrams from the samples as a representation of the linguistic set being tested. After, the the most common ngrams if each sample will be tested for their lexical similarity with the artificial dialect. The scores will be stored and represented as a histogram to get a visual comparison of how the dialects perform with regard to lexical similarity.\n",
    "\n",
    "Once the histograms are created and we have the necessary distribution statistics, hypothesis testing will be used to evaluate if the  distributions of lexical similarity are truly distinct or not. The test statistic in use will the difference of their means with the initial assumption, null hypothesis, being their the difference is zero. The alternative hypothesis, or what will be tested, will be that the differences in means will not be zero. I've chosen an alpha level of 5% and therefore the beginning of the critical range will lie at a z-scores of -1.96 and 1.96. If the z-scores lie within the critical range, more than 1.96 or less than 1.96, then we can be sure with at least 95% certainty that the distribution are distinct from each other.  "
   ]
  },
  {
   "cell_type": "markdown",
   "id": "50a02386",
   "metadata": {},
   "source": [
    "#### Functions used for this section"
   ]
  },
  {
   "cell_type": "code",
   "execution_count": 67,
   "id": "b1b920af",
   "metadata": {},
   "outputs": [],
   "source": [
    "def random_index(size_index, size_data):\n",
    "    #provides randomly selected indexes to collect from data\n",
    "    index_set = set()\n",
    "    while len(index_set) != size_index:\n",
    "        random_variable = np.random.randint(size_data)\n",
    "        index_set.add(random_variable) \n",
    "    return index_set"
   ]
  },
  {
   "cell_type": "code",
   "execution_count": 68,
   "id": "48588c34",
   "metadata": {},
   "outputs": [],
   "source": [
    "def random_sample_acc(df, country, column, sample_size):\n",
    "    country_df = df[df['COUNTRY']==country]\n",
    "    ngrams= country_df[column].tolist()\n",
    "    index= random_index(sample_size, len(ngrams))\n",
    "    sample_ngrams = []\n",
    "    for index in index:\n",
    "        sample_ngram=ngrams[index]\n",
    "        sample_ngrams.append(sample_ngram)\n",
    "    return sample_ngrams"
   ]
  },
  {
   "cell_type": "code",
   "execution_count": 69,
   "id": "b82a2f9c",
   "metadata": {},
   "outputs": [],
   "source": [
    "def random_sample(df, column, sample_size):\n",
    "    ngrams = df[column].tolist()\n",
    "    index = random_index(sample_size, len(ngrams))\n",
    "    sample_ngrams = []\n",
    "    for index in index:\n",
    "        sample_ngram = ngrams[index]\n",
    "        sample_ngrams.append(sample_ngram)\n",
    "    return sample_ngrams"
   ]
  },
  {
   "cell_type": "code",
   "execution_count": 70,
   "id": "9bdbc70b",
   "metadata": {},
   "outputs": [],
   "source": [
    "def extract_bigrams(list_):\n",
    "    ngrams=[]\n",
    "    for post in list_:\n",
    "        for phrase in post:\n",
    "            for bigram in phrase:\n",
    "                word_1 = str(bigram[0])\n",
    "                word_2 = str(bigram[1])\n",
    "                new_bigram = (f'{word_1}', f'{word_2}')\n",
    "                ngrams.append(new_bigram)\n",
    "    return ngrams"
   ]
  },
  {
   "cell_type": "code",
   "execution_count": 71,
   "id": "249d94da",
   "metadata": {},
   "outputs": [],
   "source": [
    "def extract_unigrams(list_):\n",
    "    ngrams=[]\n",
    "    for post in list_:\n",
    "        for word in post:\n",
    "            ngrams.append(word)\n",
    "    return ngrams"
   ]
  },
  {
   "cell_type": "code",
   "execution_count": 72,
   "id": "bbca5fa9",
   "metadata": {},
   "outputs": [],
   "source": [
    "def sample_unigram_ranking():\n",
    "    #twitter_random_sample\n",
    "    twitter_sample = random_sample(twitter_df, 'Lemmas', 3750)\n",
    "    twitter_sample_unigrams = extract_unigrams(twitter_sample)\n",
    "    #reddit_random_sample\n",
    "    reddit_sample = random_sample(total_reddit_df, 'Lemmas', 1150)\n",
    "    reddit_sample_unigrams = extract_unigrams(reddit_sample)\n",
    "    #youtube_random_sample\n",
    "    youtube_sample = random_sample(total_youtube_df, 'Lemmas', 100)\n",
    "    youtube_sample_unigrams = extract_unigrams(youtube_sample)\n",
    "\n",
    "    sample_unigrams = twitter_sample_unigrams+reddit_sample_unigrams+youtube_sample_unigrams\n",
    "    unigram_ranking = ranking_ngrams(sample_unigrams, 500)\n",
    "    return unigram_ranking"
   ]
  },
  {
   "cell_type": "code",
   "execution_count": 73,
   "id": "26a393e2",
   "metadata": {},
   "outputs": [],
   "source": [
    "def acc_sample_unigram_ranking():\n",
    "    country_list = ['Argentina', 'Mexico','Chile', 'Colombia', 'Peru', 'Spain', 'Ecuador']\n",
    "    unigram_list = []\n",
    "    for country in country_list:\n",
    "        country_sample = extract_unigrams(random_sample_acc(complete_df, country, 'Lemmas', 750))\n",
    "        unigram_list.extend(country_sample)\n",
    "    unigram_ranking = ranking_ngrams(unigram_list, 500)\n",
    "    return unigram_ranking"
   ]
  },
  {
   "cell_type": "code",
   "execution_count": 74,
   "id": "7a952a6c",
   "metadata": {},
   "outputs": [],
   "source": [
    "def sample_bigram_ranking(column):\n",
    "    #twitter_random_sample\n",
    "    twitter_sample = random_sample(twitter_df, column, 3750)\n",
    "    twitter_sample_bigrams = extract_bigrams(twitter_sample)\n",
    "    #reddit_random_sample\n",
    "    reddit_sample = random_sample(total_reddit_df, column, 1150)\n",
    "    reddit_sample_bigrams = extract_bigrams(reddit_sample)\n",
    "    #youtube_random_sample\n",
    "    youtube_sample = random_sample(total_youtube_df, column, 100)\n",
    "    youtube_sample_bigrams = extract_bigrams(youtube_sample)\n",
    "\n",
    "    sample_unigrams = twitter_sample_bigrams+reddit_sample_bigrams+youtube_sample_bigrams\n",
    "    unigram_ranking = ranking_ngrams(sample_unigrams, 100)\n",
    "    return unigram_ranking"
   ]
  },
  {
   "cell_type": "code",
   "execution_count": 75,
   "id": "b4b7f6df",
   "metadata": {},
   "outputs": [],
   "source": [
    "def acc_sample_bigram_ranking(column):\n",
    "    country_list = ['Argentina', 'Mexico','Chile', 'Colombia', 'Peru', 'Spain', 'Ecuador']\n",
    "    bigram_list = []\n",
    "    for country in country_list:\n",
    "        country_sample = extract_bigrams(random_sample_acc(complete_df, country, column, 750))\n",
    "        bigram_list.extend(country_sample)\n",
    "    bigram_ranking = ranking_ngrams(bigram_list, 100)\n",
    "    return bigram_ranking"
   ]
  },
  {
   "cell_type": "code",
   "execution_count": 76,
   "id": "615fb5a1",
   "metadata": {},
   "outputs": [],
   "source": [
    "def get_z_score(values1, values2):         \n",
    "    mean1= np.mean(np.array(values1))\n",
    "    mean2= np.mean(np.array(values2))\n",
    "    \n",
    "    std1= np.std(np.array(values1))\n",
    "    std2= np.std(np.array(values2))\n",
    "    \n",
    "    numerator = mean1-mean2\n",
    "    denominator = math.sqrt((std1**2/len(values1))+(std2**2/len(values2)))\n",
    "    z_score = numerator/denominator\n",
    "    return z_score"
   ]
  },
  {
   "cell_type": "markdown",
   "id": "f8965a3e",
   "metadata": {},
   "source": [
    "## Unigram Test"
   ]
  },
  {
   "cell_type": "code",
   "execution_count": 77,
   "id": "f395b509",
   "metadata": {},
   "outputs": [],
   "source": [
    "artificial_dialect1_scores_uni = []\n",
    "artificial_dialect2_scores_uni= []\n",
    "percentage_list = [10, 25, 50, 75, 100]\n",
    "for i in range (1000):\n",
    "    unigram_sample_ranking = acc_sample_unigram_ranking()\n",
    "    percentages_similarity_dialect_1_uni = []\n",
    "    percentages_similarity_dialect_2_uni = []\n",
    "    for percentage in percentage_list:\n",
    "        percentile = int(500 * (percentage/100))\n",
    "        artificial_1_similarity_uni = lexical_similarity(unigram_sample_ranking[0:percentile],\n",
    "                                                     artificial_dialect1_unigram[0:percentile])\n",
    "        artificial_2_similarity_uni = lexical_similarity(unigram_sample_ranking[0:percentile],\n",
    "                                                     artificial_dialect2_unigram[0:percentile])\n",
    "        percentages_similarity_dialect_1_uni.append(artificial_1_similarity_uni)\n",
    "        percentages_similarity_dialect_2_uni.append(artificial_2_similarity_uni)\n",
    "    mean1 = np.mean(np.array(percentages_similarity_dialect_1_uni))\n",
    "    mean2 = np.mean(np.array(percentages_similarity_dialect_2_uni))\n",
    "    artificial_dialect1_scores_uni.append(mean1)\n",
    "    artificial_dialect2_scores_uni.append(mean2)"
   ]
  },
  {
   "cell_type": "code",
   "execution_count": 78,
   "id": "4c2feade",
   "metadata": {},
   "outputs": [
    {
     "data": {
      "text/plain": [
       "<AxesSubplot:ylabel='Density'>"
      ]
     },
     "execution_count": 78,
     "metadata": {},
     "output_type": "execute_result"
    },
    {
     "data": {
      "image/png": "[encoded data removed]",
      "text/plain": [
       "<Figure size 1152x576 with 1 Axes>"
      ]
     },
     "metadata": {
      "needs_background": "light"
     },
     "output_type": "display_data"
    }
   ],
   "source": [
    "fig, axs = plt.subplots(1,1, figsize=(16,8) ,sharex=True, sharey=True)\n",
    "sns.kdeplot(artificial_dialect1_scores_uni, ax=axs, color='blue', fill=True)\n",
    "sns.kdeplot(artificial_dialect2_scores_uni, ax=axs, color='purple', fill=True)"
   ]
  },
  {
   "cell_type": "code",
   "execution_count": 79,
   "id": "318e008e",
   "metadata": {},
   "outputs": [
    {
     "name": "stdout",
     "output_type": "stream",
     "text": [
      "Dialect 1, mean and standard deviation: 77.74, 0.685\n",
      "Dialect 2, mean and standard deviation: 88.774, 0.801\n"
     ]
    }
   ],
   "source": [
    "mean_dialect1_uni = np.mean(np.array(artificial_dialect1_scores_uni))\n",
    "mean_dialect2_uni = np.mean(np.array(artificial_dialect2_scores_uni))\n",
    "\n",
    "std_dialect1_uni = np.std(np.array(artificial_dialect1_scores_uni))\n",
    "std_dialect2_uni = np.std(np.array(artificial_dialect2_scores_uni))\n",
    "\n",
    "print(f'''Dialect 1, mean and standard deviation: {round(mean_dialect1_uni,3)}, {round(std_dialect1_uni,3)}\n",
    "Dialect 2, mean and standard deviation: {round(mean_dialect2_uni,3)}, {round(std_dialect2_uni,3)}''')"
   ]
  },
  {
   "cell_type": "code",
   "execution_count": 80,
   "id": "f5532fd2",
   "metadata": {},
   "outputs": [
    {
     "name": "stdout",
     "output_type": "stream",
     "text": [
      "The z-score for the Unigram test is 331.04\n",
      "This within the critical range and therefore we can be quite certain that the distributions are distinct.\n"
     ]
    }
   ],
   "source": [
    "unigram_z_score = get_z_score(artificial_dialect2_scores_uni, artificial_dialect1_scores_uni)\n",
    "print(f'''The z-score for the Unigram test is {round(unigram_z_score, 2)}\n",
    "This within the critical range and therefore we can be quite certain that the distributions are distinct.''')"
   ]
  },
  {
   "cell_type": "markdown",
   "id": "018e1e76",
   "metadata": {},
   "source": [
    "## Lemmatized Bigram Test"
   ]
  },
  {
   "cell_type": "code",
   "execution_count": 81,
   "id": "31fa8d2f",
   "metadata": {},
   "outputs": [],
   "source": [
    "artificial_dialect1_scores_bi = []\n",
    "artificial_dialect2_scores_bi= []\n",
    "artificial_dialect1_bigram['Ngrams'] = artificial_dialect1_bigram['Ngrams'].apply(literal_eval)\n",
    "artificial_dialect2_bigram['Ngrams'] = artificial_dialect2_bigram['Ngrams'].apply(literal_eval)\n",
    "percentage_list = [10, 25, 50, 75, 100]\n",
    "for i in range (1000):\n",
    "    bigram_sample_ranking = acc_sample_bigram_ranking('Lemma_Bigrams')\n",
    "    percentages_similarity_dialect_1_bi = []\n",
    "    percentages_similarity_dialect_2_bi = []\n",
    "    for percentage in percentage_list:\n",
    "        percentile = int(100 * (percentage/100))\n",
    "        artificial_1_similarity_bi = lexical_similarity(bigram_sample_ranking[0:percentile],\n",
    "                                                     artificial_dialect1_bigram[0:percentile])\n",
    "        artificial_2_similarity_bi = lexical_similarity(bigram_sample_ranking[0:percentile],\n",
    "                                                     artificial_dialect2_bigram[0:percentile])\n",
    "        percentages_similarity_dialect_1_bi.append(artificial_1_similarity_bi)\n",
    "        percentages_similarity_dialect_2_bi.append(artificial_2_similarity_bi)\n",
    "    mean1_bi = np.mean(np.array(percentages_similarity_dialect_1_bi))\n",
    "    mean2_bi = np.mean(np.array(percentages_similarity_dialect_2_bi))\n",
    "    artificial_dialect1_scores_bi.append(mean1_bi)\n",
    "    artificial_dialect2_scores_bi.append(mean2_bi)"
   ]
  },
  {
   "cell_type": "code",
   "execution_count": 82,
   "id": "df901de8",
   "metadata": {},
   "outputs": [
    {
     "data": {
      "text/plain": [
       "<AxesSubplot:ylabel='Density'>"
      ]
     },
     "execution_count": 82,
     "metadata": {},
     "output_type": "execute_result"
    },
    {
     "data": {
      "image/png": "[encoded data removed]",
      "text/plain": [
       "<Figure size 1152x576 with 1 Axes>"
      ]
     },
     "metadata": {
      "needs_background": "light"
     },
     "output_type": "display_data"
    }
   ],
   "source": [
    "fig, axs = plt.subplots(1,1, figsize=(16,8) ,sharex=True, sharey=True)\n",
    "sns.kdeplot(artificial_dialect1_scores_bi, ax=axs, color='blue', fill=True)\n",
    "sns.kdeplot(artificial_dialect2_scores_bi, ax=axs, color='purple', fill=True)"
   ]
  },
  {
   "cell_type": "code",
   "execution_count": 83,
   "id": "ef672584",
   "metadata": {},
   "outputs": [
    {
     "name": "stdout",
     "output_type": "stream",
     "text": [
      "Dialect 1, mean and standard deviation: 82.079, 1.429\n",
      "Dialect 2, mean and standard deviation: 90.69, 1.651\n"
     ]
    }
   ],
   "source": [
    "mean_dialect1_bi = np.mean(np.array(artificial_dialect1_scores_bi))\n",
    "mean_dialect2_bi = np.mean(np.array(artificial_dialect2_scores_bi))\n",
    "\n",
    "std_dialect1_bi = np.std(np.array(artificial_dialect1_scores_bi))\n",
    "std_dialect2_bi = np.std(np.array(artificial_dialect2_scores_bi))\n",
    "\n",
    "print(f'''Dialect 1, mean and standard deviation: {round(mean_dialect1_bi,3)}, {round(std_dialect1_bi,3)}\n",
    "Dialect 2, mean and standard deviation: {round(mean_dialect2_bi,3)}, {round(std_dialect2_bi,3)}''')"
   ]
  },
  {
   "cell_type": "code",
   "execution_count": 84,
   "id": "243c8acb",
   "metadata": {},
   "outputs": [
    {
     "name": "stdout",
     "output_type": "stream",
     "text": [
      "The z-score for the Lemmatized Bigram test is 124.69\n",
      "This within the critical range and therefore we can be quite certain that the distributions are distinct.\n"
     ]
    }
   ],
   "source": [
    "bigram_z_score = get_z_score(artificial_dialect2_scores_bi, artificial_dialect1_scores_bi)\n",
    "print(f'''The z-score for the Lemmatized Bigram test is {round(bigram_z_score, 2)}\n",
    "This within the critical range and therefore we can be quite certain that the distributions are distinct.''')"
   ]
  },
  {
   "cell_type": "markdown",
   "id": "37249a71",
   "metadata": {},
   "source": [
    "## Pure Bigram Test"
   ]
  },
  {
   "cell_type": "code",
   "execution_count": 85,
   "id": "edf5be4e",
   "metadata": {},
   "outputs": [],
   "source": [
    "artificial_dialect1_scores_pure = []\n",
    "artificial_dialect2_scores_pure= []\n",
    "artificial_dialect1_pure['Ngrams'] = artificial_dialect1_pure['Ngrams'].apply(literal_eval)\n",
    "artificial_dialect2_pure['Ngrams'] = artificial_dialect2_pure['Ngrams'].apply(literal_eval)\n",
    "percentage_list = [10, 25, 50, 75, 100]\n",
    "for i in range (1000):\n",
    "    pure_sample_ranking = acc_sample_bigram_ranking('Pure_Bigrams')\n",
    "    percentages_similarity_dialect_1_pure = []\n",
    "    percentages_similarity_dialect_2_pure = []\n",
    "    for percentage in percentage_list:\n",
    "        percentile = int(100 * (percentage/100))\n",
    "        artificial_1_similarity_pure = lexical_similarity(pure_sample_ranking[0:percentile],\n",
    "                                                     artificial_dialect1_pure[0:percentile])\n",
    "        artificial_2_similarity_pure = lexical_similarity(pure_sample_ranking[0:percentile],\n",
    "                                                     artificial_dialect2_pure[0:percentile])\n",
    "        percentages_similarity_dialect_1_pure.append(artificial_1_similarity_pure)\n",
    "        percentages_similarity_dialect_2_pure.append(artificial_2_similarity_pure)\n",
    "    mean1_pure = np.mean(np.array(percentages_similarity_dialect_1_pure))\n",
    "    mean2_pure = np.mean(np.array(percentages_similarity_dialect_2_pure))\n",
    "    artificial_dialect1_scores_pure.append(mean1_pure)\n",
    "    artificial_dialect2_scores_pure.append(mean2_pure)"
   ]
  },
  {
   "cell_type": "code",
   "execution_count": 86,
   "id": "3ac30d94",
   "metadata": {},
   "outputs": [
    {
     "data": {
      "text/plain": [
       "<AxesSubplot:ylabel='Density'>"
      ]
     },
     "execution_count": 86,
     "metadata": {},
     "output_type": "execute_result"
    },
    {
     "data": {
      "image/png": "[encoded data removed]",
      "text/plain": [
       "<Figure size 1152x576 with 1 Axes>"
      ]
     },
     "metadata": {
      "needs_background": "light"
     },
     "output_type": "display_data"
    }
   ],
   "source": [
    "fig, axs = plt.subplots(1,1, figsize=(16,8) ,sharex=True, sharey=True)\n",
    "sns.kdeplot(artificial_dialect1_scores_pure, ax=axs, color='blue', fill=True)\n",
    "sns.kdeplot(artificial_dialect2_scores_pure, ax=axs, color='purple', fill=True)"
   ]
  },
  {
   "cell_type": "code",
   "execution_count": 87,
   "id": "d6e46724",
   "metadata": {},
   "outputs": [
    {
     "name": "stdout",
     "output_type": "stream",
     "text": [
      "Dialect 1, mean and standard deviation: 73.176, 1.524\n",
      "Dialect 2, mean and standard deviation: 87.183, 2.397\n"
     ]
    }
   ],
   "source": [
    "mean_dialect1_pure = np.mean(np.array(artificial_dialect1_scores_pure))\n",
    "mean_dialect2_pure = np.mean(np.array(artificial_dialect2_scores_pure))\n",
    "\n",
    "std_dialect1_pure = np.std(np.array(artificial_dialect1_scores_pure))\n",
    "std_dialect2_pure = np.std(np.array(artificial_dialect2_scores_pure))\n",
    "\n",
    "print(f'''Dialect 1, mean and standard deviation: {round(mean_dialect1_pure,3)}, {round(std_dialect1_pure,3)}\n",
    "Dialect 2, mean and standard deviation: {round(mean_dialect2_pure,3)}, {round(std_dialect2_pure,3)}''')"
   ]
  },
  {
   "cell_type": "code",
   "execution_count": 88,
   "id": "3fbff2e0",
   "metadata": {},
   "outputs": [
    {
     "name": "stdout",
     "output_type": "stream",
     "text": [
      "The z-score for the Pure Bigram test is 155.92\n",
      "This within the critical range and therefore we can be quite certain that the distributions are distinct.\n"
     ]
    }
   ],
   "source": [
    "pure_z_score = get_z_score(artificial_dialect2_scores_pure, artificial_dialect1_scores_pure)\n",
    "print(f'''The z-score for the Pure Bigram test is {round(pure_z_score, 2)}\n",
    "This within the critical range and therefore we can be quite certain that the distributions are distinct.''')"
   ]
  },
  {
   "cell_type": "code",
   "execution_count": null,
   "id": "9a609dcb",
   "metadata": {},
   "outputs": [],
   "source": []
  }
 ],
 "metadata": {
  "kernelspec": {
   "display_name": "Python 3 (ipykernel)",
   "language": "python",
   "name": "python3"
  },
  "language_info": {
   "codemirror_mode": {
    "name": "ipython",
    "version": 3
   },
   "file_extension": ".py",
   "mimetype": "text/x-python",
   "name": "python",
   "nbconvert_exporter": "python",
   "pygments_lexer": "ipython3",
   "version": "3.9.7"
  }
 },
 "nbformat": 4,
 "nbformat_minor": 5
}
